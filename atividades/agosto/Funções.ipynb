{
  "cells": [
    {
      "cell_type": "markdown",
      "metadata": {
        "id": "Bu-AL2gSJCru"
      },
      "source": [
        "# Introdução"
      ]
    },
    {
      "cell_type": "markdown",
      "metadata": {
        "id": "19qAKKH_VO99"
      },
      "source": [
        "### Definição"
      ]
    },
    {
      "cell_type": "markdown",
      "metadata": {
        "id": "dGaS1UmSc8_z"
      },
      "source": [
        "Funções são blocos de código que servem a um __único propósito__, ou seja, realizam _uma ação específica_."
      ]
    },
    {
      "cell_type": "markdown",
      "metadata": {
        "id": "7Dx6965dz0me"
      },
      "source": [
        "Quando iniciamos nossos estudos na linguagem __Python__ utilizamos algumas funções _builtin_ como: `print()`, `input()` e `type()`"
      ]
    },
    {
      "cell_type": "markdown",
      "metadata": {
        "id": "jlze9FWyeTHK"
      },
      "source": [
        "* `print()` : exibe uma mensagem na saída padrão\n",
        "* `input()` : pega informações da entrada padrão\n",
        "* `type()` : retorna o tipo de dados de determinada variável"
      ]
    },
    {
      "cell_type": "markdown",
      "metadata": {
        "id": "2tu9grJS0uZ-"
      },
      "source": [
        "__EXEMPLOS__\n",
        "\n",
        "* `print('Módulo Python')`\n",
        "* `nome = input('Nome do aluno: ')`\n",
        "* `type(nome)`"
      ]
    },
    {
      "cell_type": "markdown",
      "metadata": {
        "id": "_peHMft0JL_L"
      },
      "source": [
        "__LEMBRE-SE__ : tudo em Python é um objeto, assim:\n",
        "\n",
        "> Uma definição de função define <u>_um objeto de função_</u> criado pelo usuário\n",
        "\n",
        "__ATENÇÃO__ : a definição da função __não__ executa o corpo da função, isto é executado somente quando a função é chamada"
      ]
    },
    {
      "cell_type": "markdown",
      "metadata": {
        "id": "pFquu5n31731"
      },
      "source": [
        "__SINTAXE PARA DEFINIÇÃO DA FUNÇÃO__\n",
        "\n",
        "```\n",
        "def minha_funcao(parametros):\n",
        "    corpo da função\n",
        "    return alguma coisa\n",
        "```\n",
        "\n",
        "__SINTAXE PARA CHAMADA DA FUNÇÃO__\n",
        "\n",
        "```\n",
        "minha_funcao(atributos)\n",
        "```\n",
        "\n",
        "__ATENÇÃO__\n",
        "\n",
        "* Atributos são valores passados para uma função quando esta é chamada\n",
        "* Parâmetros são variáveis que receberão os atributos passados para a função\n",
        "\n",
        "Vejamos no exemplo abaixo:"
      ]
    },
    {
      "cell_type": "code",
      "execution_count": 1,
      "metadata": {
        "colab": {
          "base_uri": "https://localhost:8080/"
        },
        "id": "bzOE2qln6k1C",
        "outputId": "0a90dde0-e216-4760-defa-2e993779bb14"
      },
      "outputs": [
        {
          "name": "stdout",
          "output_type": "stream",
          "text": [
            "Olá Rafael\n"
          ]
        }
      ],
      "source": [
        "def saudacao(nome):\n",
        "  return f'Olá {nome.title()}'\n",
        "\n",
        "print(saudacao('Rafael'))"
      ]
    },
    {
      "cell_type": "markdown",
      "metadata": {
        "id": "3J7Adx3x64K-"
      },
      "source": [
        "No código acima, temos a declaração da função, ou como comumente chamamos de assinatura da função, onde esta possui um <u>parâmetro</u> chamado `nome`. \n",
        "\n",
        "Ao chamar esta função, passamos um <u>atributo</u> que neste caso é a string `'Rafael'`"
      ]
    },
    {
      "cell_type": "markdown",
      "metadata": {
        "id": "9Q7xAyIa72Cm"
      },
      "source": [
        "Acabamos de ver que as funções, em geral e por padrão, tem parâmetros, porém, podemos criar funções que não possuam parâmetros. Então como seria sua sintaxe?"
      ]
    },
    {
      "cell_type": "code",
      "execution_count": null,
      "metadata": {
        "colab": {
          "base_uri": "https://localhost:8080/"
        },
        "id": "mH0XMl9F8LB2",
        "outputId": "2e40331c-7369-41a5-f186-e425a3e5641b"
      },
      "outputs": [
        {
          "name": "stdout",
          "output_type": "stream",
          "text": [
            "Boa tarde!\n"
          ]
        }
      ],
      "source": [
        "def saudacao():\n",
        "  print('Boa tarde!')\n",
        "\n",
        "saudacao()"
      ]
    },
    {
      "cell_type": "markdown",
      "metadata": {
        "id": "T9YNAeyZ8hV5"
      },
      "source": [
        "__ATENÇÃO__ : toda função em __Python__ retorna alguma coisa mesmo que você não especifique nada. \n",
        "\n",
        "No exemplo acima, quando a função _saudacao_ é executada, ela imprime a mensagem `'Boa tarde!'` na saída padrão. Não estamos retornando nada de forma explícita, porém o __Python__ faz isso por nós e neste caso retornará `None`.\n",
        "\n",
        "Para vermos isso, basta chamarmos a função acima dentro da função `print`"
      ]
    },
    {
      "cell_type": "code",
      "execution_count": null,
      "metadata": {
        "colab": {
          "base_uri": "https://localhost:8080/"
        },
        "id": "A3cY4bhJ9R_X",
        "outputId": "08392e4e-b158-4653-e7ab-dfd729f395cd"
      },
      "outputs": [
        {
          "name": "stdout",
          "output_type": "stream",
          "text": [
            "Boa tarde!\n",
            "None\n"
          ]
        }
      ],
      "source": [
        "print(saudacao())"
      ]
    },
    {
      "cell_type": "markdown",
      "metadata": {
        "id": "XbAfQpGq9ctX"
      },
      "source": [
        "### Docstring (PEP 257)"
      ]
    },
    {
      "cell_type": "markdown",
      "metadata": {
        "id": "PreyIFVE9iEO"
      },
      "source": [
        "Uma _docstring_ é uma string literal que ocorre como a primeira instrução em um módulo, função, classe ou definição de método. Tal docstring se torna o atributo especial __doc__ daquele objeto.\n",
        "\n",
        "Não se preocupe agora com `__doc__`, falaremos dele em breve nas aulas de Orientação à Objetos.\n",
        "\n",
        "Para mais informações sobre a __PEP 257__, clique [aqui](https://peps.python.org/pep-0257/)\n",
        "\n",
        "As _docstrings_ devem vir entre aspas triplas, podendo ser simples ou duplas.\n",
        "\n",
        "Exemplo:\n",
        "\n",
        "`'''aqui está a mensagem'''` ou `\"\"\"aqui está a mensagem\"\"\"`\n",
        "\n",
        "__OBS__ : Python recomenda o uso das aspas simples."
      ]
    },
    {
      "cell_type": "code",
      "execution_count": null,
      "metadata": {
        "id": "027cQvD9Dn-8"
      },
      "outputs": [],
      "source": [
        "def saudacao(nome):\n",
        "  '''Retorna uma saudação personalizada'''\n",
        "  return f'Olá {nome}'"
      ]
    },
    {
      "cell_type": "code",
      "execution_count": null,
      "metadata": {
        "colab": {
          "base_uri": "https://localhost:8080/"
        },
        "id": "Sk3O-4bZEZp5",
        "outputId": "5403782b-073b-49b6-a0b4-e3eddbc03ab8"
      },
      "outputs": [
        {
          "name": "stdout",
          "output_type": "stream",
          "text": [
            "Olá Rafael\n"
          ]
        }
      ],
      "source": [
        "print(saudacao('Rafael'))"
      ]
    },
    {
      "cell_type": "code",
      "execution_count": null,
      "metadata": {
        "colab": {
          "base_uri": "https://localhost:8080/"
        },
        "id": "IY_zfKAvEe3G",
        "outputId": "3c5866e2-49fe-4f13-efa2-5806af2197ab"
      },
      "outputs": [
        {
          "name": "stdout",
          "output_type": "stream",
          "text": [
            "Retorna uma saudação personalizada\n"
          ]
        }
      ],
      "source": [
        "print(saudacao.__doc__)"
      ]
    },
    {
      "cell_type": "markdown",
      "metadata": {
        "id": "IEkpNbqr9i9S"
      },
      "source": [
        "### Type Hint (Functions Annotations)"
      ]
    },
    {
      "cell_type": "markdown",
      "metadata": {
        "id": "D6sXYrPJEybz"
      },
      "source": [
        "O _Python Moderno_ introduziu as _typing hints_ ou _annotations_ que indica __APENAS__ qual é o tipo de dados esperado ou retornado por variáveis ou função.\n",
        "\n",
        "Como estamos falando de _Funções_ nesta aula, vamos focar nas anotações para este bloco de código.\n",
        "\n",
        "Vamos refatorar as duas versões da função `saudacao()`"
      ]
    },
    {
      "cell_type": "markdown",
      "metadata": {
        "id": "shSIxFSUFjhK"
      },
      "source": [
        "#### Sem parâmetro"
      ]
    },
    {
      "cell_type": "code",
      "execution_count": null,
      "metadata": {
        "id": "Kuz10-Ol9qgF"
      },
      "outputs": [],
      "source": [
        "def saudacao() -> None:\n",
        "  '''Imprime a mensagem de Boa tarde'''\n",
        "  print('Boa tarde')"
      ]
    },
    {
      "cell_type": "markdown",
      "metadata": {
        "id": "4GZgfPNZF15v"
      },
      "source": [
        "Repare que a função não retorna nada, logo especificamos que o retorno da mesma será do tipo `None`"
      ]
    },
    {
      "cell_type": "markdown",
      "metadata": {
        "id": "w9NLnhd4GEPH"
      },
      "source": [
        "#### Com parâmetro"
      ]
    },
    {
      "cell_type": "code",
      "execution_count": null,
      "metadata": {
        "id": "6kgxRMe8GIRk"
      },
      "outputs": [],
      "source": [
        "def saudacao(nome: str) -> str:\n",
        "  '''Retorna uma string formatada e personalizada'''\n",
        "  return f'Olá {nome}'"
      ]
    },
    {
      "cell_type": "markdown",
      "metadata": {
        "id": "l1hs7fwKGoh8"
      },
      "source": [
        "Agora, a função possui um parâmetro chamado `nome` que espera receber uma `string` e esta função retornará uma `string` formatada."
      ]
    },
    {
      "cell_type": "markdown",
      "metadata": {
        "id": "L9JARvScm2oS"
      },
      "source": [
        "### Parâmetros"
      ]
    },
    {
      "cell_type": "markdown",
      "metadata": {
        "id": "-l4CDrrKHAbL"
      },
      "source": [
        "Vamos falar um pouco mais sobre parâmetros..."
      ]
    },
    {
      "cell_type": "markdown",
      "metadata": {
        "id": "sMydOUaiHIHL"
      },
      "source": [
        "#### Posicionais"
      ]
    },
    {
      "cell_type": "markdown",
      "metadata": {
        "id": "tL-7kfNWHKww"
      },
      "source": [
        "Simplesmente seguem a ordem em que são declarados, logo, na chamada da função os argumentos devem ser passados na mesma ordem em que os parâmetros aparecem.\n",
        "\n",
        "__OBS__: Devemos fornecer / informar os argumentos na mesma quantidade de parâmetros que função possuir."
      ]
    },
    {
      "cell_type": "code",
      "execution_count": null,
      "metadata": {
        "id": "bUJhfiQPm4Wk"
      },
      "outputs": [],
      "source": [
        "def imprime_nome(nome: str, idade: int) -> str:\n",
        "  '''Imprime o nome e a idade de uma pessoa\n",
        "\n",
        "  params:\n",
        "    nome - uma string literal\n",
        "    idade - um inteiro positivo\n",
        "\n",
        "  return:\n",
        "    Uma string formatada com o nome e a idade da pessoa\n",
        "  '''\n",
        "  return f'{nome.title()} tem {idade} anos'"
      ]
    },
    {
      "cell_type": "markdown",
      "metadata": {
        "id": "Nn9XIt2wI1MU"
      },
      "source": [
        "##### Mais exemplos"
      ]
    },
    {
      "cell_type": "markdown",
      "metadata": {
        "id": "02dD2odwI9Mc"
      },
      "source": [
        "Descomente as linhas para poder testar"
      ]
    },
    {
      "cell_type": "code",
      "execution_count": null,
      "metadata": {
        "id": "QB1Xlj7dnDg8"
      },
      "outputs": [],
      "source": [
        "# Veja o que é impresso\n",
        "# imprime_nome('rafael', 46)\n",
        "\n",
        "# Veja o que acontece\n",
        "# imprime_nome('rafael')\n",
        "\n",
        "# Veja o que acontece quando atribuímos o retorno\n",
        "# de uma função à uma variável\n",
        "# print(imprime_nome('Aluno', 18))\n",
        "# aluno = imprime_nome('Rute', 56)\n",
        "# print(type(aluno))\n",
        "# print(aluno)"
      ]
    },
    {
      "cell_type": "markdown",
      "metadata": {
        "id": "rwT2SKIWJf1v"
      },
      "source": [
        "Realizando 3 chamadas à função `imprime_nome`, mas passando argumentos diferentes"
      ]
    },
    {
      "cell_type": "code",
      "execution_count": null,
      "metadata": {
        "id": "NtrcPLGOnSFv"
      },
      "outputs": [],
      "source": [
        "print(imprime_nome('Rafael', 46))\n",
        "print(imprime_nome('Allan', 31))\n",
        "print(imprime_nome('Beatriz', 11))"
      ]
    },
    {
      "cell_type": "code",
      "execution_count": null,
      "metadata": {
        "id": "XxcqqSriLMGp"
      },
      "outputs": [],
      "source": [
        "def soma(parcela1: int, parcela2: int) -> int:\n",
        "  '''Retorna a soma de 2 números\n",
        "\n",
        "  param: \n",
        "    parcela1: número inteiro\n",
        "    parcela2: número inteiro\n",
        "\n",
        "  return:\n",
        "    número inteiro'''\n",
        "  return parcela1 + parcela2"
      ]
    },
    {
      "cell_type": "code",
      "execution_count": null,
      "metadata": {
        "id": "UctiUa7ALjpy"
      },
      "outputs": [],
      "source": [
        "print(f'O resultado da soma foi {soma(3, 4)}')"
      ]
    },
    {
      "cell_type": "markdown",
      "metadata": {
        "id": "U4ZjfSOfn3QZ"
      },
      "source": [
        "#### Parâmetros com valores padrão"
      ]
    },
    {
      "cell_type": "markdown",
      "metadata": {
        "id": "6f3a_4mEKmhs"
      },
      "source": [
        "São também conhecidos como parâmetros nomeados.\n",
        "\n",
        "A assinatura da função `produzir_roupa` possui seus parâmetros com valores padrão, repare:\n",
        "\n",
        "* `peca = 'Camiseta'`\n",
        "* `tamanho = 'M'`\n",
        "* `cor = 'Branca'`\n",
        "\n",
        "Então, já podemos concluir que se esta função for chamada sem nenhum argumento, estes valores padrão serão impressos."
      ]
    },
    {
      "cell_type": "code",
      "execution_count": null,
      "metadata": {
        "id": "KNJ6_1arn56y"
      },
      "outputs": [],
      "source": [
        "def produzir_roupa(peca: str = 'Camiseta', tamanho: str = 'M', cor: str = 'Branca') -> str:\n",
        "  print(f'{peca} {cor} - Tamanho: {tamanho}')"
      ]
    },
    {
      "cell_type": "code",
      "execution_count": null,
      "metadata": {
        "id": "YFUrWfexps1T"
      },
      "outputs": [],
      "source": [
        "produzir_roupa('Short', 'G', 'Azul')\n",
        "produzir_roupa()\n",
        "\n",
        "# Se quisermos omitir um argumento, devemos passar os demais nomeados\n",
        "produzir_roupa(tamanho='P', cor='Preta')"
      ]
    },
    {
      "cell_type": "markdown",
      "metadata": {
        "id": "goSe-AODM477"
      },
      "source": [
        "##### Mais exemplos"
      ]
    },
    {
      "cell_type": "markdown",
      "metadata": {
        "id": "KKIDqzHWNLb4"
      },
      "source": [
        "Vamos refatorar a função `saudacao()` e colocar um valor padrão para seu parâmetro `nome`"
      ]
    },
    {
      "cell_type": "code",
      "execution_count": null,
      "metadata": {
        "id": "_1trq6VqR21V"
      },
      "outputs": [],
      "source": [
        "def saudacao(nome: str = 'usuario') -> str:\n",
        "  '''Retorna uma saudação pesonalizada quando um nome é informado\n",
        "\n",
        "  param:\n",
        "    nome : string literal\n",
        "  \n",
        "  return:\n",
        "    uma mensagem de saudação personalizada'''\n",
        "  return f'Olá {nome}'"
      ]
    },
    {
      "cell_type": "code",
      "execution_count": null,
      "metadata": {
        "id": "H6SIXom4Sf8h"
      },
      "outputs": [],
      "source": [
        "print(saudacao('Rafael'))"
      ]
    },
    {
      "cell_type": "code",
      "execution_count": null,
      "metadata": {
        "id": "DWjPVDl7SigT"
      },
      "outputs": [],
      "source": [
        "print(saudacao())"
      ]
    },
    {
      "cell_type": "markdown",
      "metadata": {
        "id": "eCW0yXCZS1OI"
      },
      "source": [
        "__ATENÇÃO__ : Parâmetros nomeados devem vir __SEMPRE__ após os parâmetros posicionais. Esta é uma restrição sintática!\n",
        "\n",
        "__OBS__ : Quando se tem um parâmetro nomeado, todos os parâmetros subsequentes devem ser nomeados também."
      ]
    },
    {
      "cell_type": "markdown",
      "metadata": {
        "id": "PhuuzoTiTRVf"
      },
      "source": [
        "Repare que nesta definição da função soma, o _Python_ já reclamou pois há um parâmetro nomeado antes de um parâmetro posicional.\n",
        "\n",
        "Os valores de parâmetro padrão são avaliados da esquerda para a direita quando a definição da função é executada. Isso significa dizer que a expressão é avaliada uma vez, quando a função é definida, e que o mesmo valor \"pré-calculado\" é usado para cada chamada.\n",
        "\n"
      ]
    },
    {
      "cell_type": "code",
      "execution_count": null,
      "metadata": {
        "id": "zkAhps6ETBiy"
      },
      "outputs": [],
      "source": [
        "def soma(parcela1: int = 0, parcela2: int) -> int:\n",
        "  return parcela1 + parcela2"
      ]
    },
    {
      "cell_type": "code",
      "execution_count": null,
      "metadata": {
        "id": "NofnV8hdRbM6"
      },
      "outputs": [],
      "source": [
        "def soma(parcela1: int, parcela2: int = 0) -> int:\n",
        "  return parcela1 + parcela2"
      ]
    },
    {
      "cell_type": "code",
      "execution_count": null,
      "metadata": {
        "id": "a-GCyQx8RgGj"
      },
      "outputs": [],
      "source": [
        "print(soma(3, 4))"
      ]
    },
    {
      "cell_type": "code",
      "execution_count": null,
      "metadata": {
        "id": "yEHlXZFhRrno"
      },
      "outputs": [],
      "source": [
        "print('Rafael', 'Puyau', sep='\\n')"
      ]
    },
    {
      "cell_type": "markdown",
      "metadata": {
        "id": "Txh1tWFUj0Kj"
      },
      "source": [
        "### Funções com retornos múltiplos"
      ]
    },
    {
      "cell_type": "markdown",
      "metadata": {
        "id": "Oo7vl1MQj2wv"
      },
      "source": [
        "Uma função pode retornar mais de um valor que neste caso será uma __tupla__. \n",
        "\n",
        "Já vimos em aula anterior como trabalhar com tuplas e aprendemos a desempacotar seus valores. \n",
        "\n",
        "Veja o exemplo abaixo:"
      ]
    },
    {
      "cell_type": "code",
      "execution_count": null,
      "metadata": {
        "id": "-k3jONUEkSQu"
      },
      "outputs": [],
      "source": [
        "def situacao_do_aluno(nota1: float, nota2: float) -> tuple:\n",
        "  media = (nota1 + nota2) / 2\n",
        "  situacao = 'Aprovado' if media > 6.9 else 'Reprovado'\n",
        "  \n",
        "  return media, situacao"
      ]
    },
    {
      "cell_type": "markdown",
      "metadata": {
        "id": "LFvQ4LtxSwSp"
      },
      "source": [
        "Descomente as linhas para ver o detalhamento do que está acontecendo"
      ]
    },
    {
      "cell_type": "code",
      "execution_count": null,
      "metadata": {
        "id": "8fq9orFrkyA2"
      },
      "outputs": [],
      "source": [
        "# print(situacao_do_aluno(7, 8))\n",
        "# print(type(situacao_do_aluno(7, 8)))\n",
        "media_aluno, situacao_academica = situacao_do_aluno(7, 8)\n",
        "print(f'O aluno A obteve média {media_aluno:.1f} e está {situacao_academica.lower()}')"
      ]
    },
    {
      "cell_type": "code",
      "execution_count": null,
      "metadata": {
        "id": "ZfFM7VURY-qH"
      },
      "outputs": [],
      "source": [
        "for media, situacao in [situacao_do_aluno(7, 8)]:\n",
        "  print(media, situacao, sep=' --- ')"
      ]
    },
    {
      "cell_type": "code",
      "execution_count": null,
      "metadata": {
        "id": "6ZlPyymmlmOn"
      },
      "outputs": [],
      "source": [
        "media_aluno, situacao_academica = situacao_do_aluno(5, 8)\n",
        "print(f'O aluno B obteve média {media_aluno:.1f} e está {situacao_academica.lower()}')"
      ]
    },
    {
      "cell_type": "markdown",
      "metadata": {
        "id": "hNoOsG8Nhk2Z"
      },
      "source": [
        "### Palavras reservadas"
      ]
    },
    {
      "cell_type": "markdown",
      "metadata": {
        "id": "E_LODnIlQd3Q"
      },
      "source": [
        "#### def"
      ]
    },
    {
      "cell_type": "markdown",
      "metadata": {
        "id": "oz4n1gM1QgHW"
      },
      "source": [
        "É a palavra reservada da linguagem __Python__ que define uma função"
      ]
    },
    {
      "cell_type": "markdown",
      "metadata": {
        "id": "uMiO-8iXQUa9"
      },
      "source": [
        "#### __pass__ ou ..."
      ]
    },
    {
      "cell_type": "markdown",
      "metadata": {
        "id": "OiQh3VjOh8j3"
      },
      "source": [
        "Caso precise definir a assinatura de uma função, ou seja, seu cabeçalho, e definir o corpo da função mais tarde, você deverá usar a palavra reservada __pass__ ou os __...__"
      ]
    },
    {
      "cell_type": "code",
      "execution_count": null,
      "metadata": {
        "id": "hhJys-mhiryQ"
      },
      "outputs": [],
      "source": [
        "def soma(parcela1: int, parcela2: int) -> int:\n",
        "  pass"
      ]
    },
    {
      "cell_type": "code",
      "execution_count": null,
      "metadata": {
        "id": "1lkR6I41izoh"
      },
      "outputs": [],
      "source": [
        "def calcula_imposto(valor: float, percentual: float) -> float:\n",
        "  ..."
      ]
    },
    {
      "cell_type": "markdown",
      "metadata": {
        "id": "G_8g2VN5QmaS"
      },
      "source": [
        "#### return"
      ]
    },
    {
      "cell_type": "markdown",
      "metadata": {
        "id": "389fLsN0Qn0d"
      },
      "source": [
        "Quando encontrada, encerra a função naquele momento retornando o valor ou valores para o mesmo ponto em que foi chamada.\n",
        "\n",
        "__ATENÇÃO__ : se houver código após o __return__ este não será executado. Se estiver dentro de um bloco condicional, poderá fazer sentido, mas se não estiver você terá um erro - `Unreacheable code`"
      ]
    },
    {
      "cell_type": "code",
      "execution_count": null,
      "metadata": {
        "id": "Y-e2NpOfRTh2"
      },
      "outputs": [],
      "source": [
        "def saudacao(nome: str) -> str:\n",
        "  return f'Olá {nome}'\n",
        "  print('Seja bem-vindo(a)') # unreacheable code"
      ]
    },
    {
      "cell_type": "code",
      "execution_count": null,
      "metadata": {
        "id": "bn3-UxlrRiZi"
      },
      "outputs": [],
      "source": [
        "def par_ou_impar(numero: int) -> int:\n",
        "  if numero % 2 == 0:\n",
        "    return 'PAR'\n",
        "  else:\n",
        "    return 'ÍMPAR'"
      ]
    },
    {
      "cell_type": "markdown",
      "metadata": {
        "id": "pTxh6BhXRv3N"
      },
      "source": [
        "Código acima refatorado para a __forma pythônica__"
      ]
    },
    {
      "cell_type": "code",
      "execution_count": null,
      "metadata": {
        "id": "daWb44_6Ru7T"
      },
      "outputs": [],
      "source": [
        "def par_ou_impar(numero: int) -> int:\n",
        "  if numero % 2 == 0:\n",
        "    return 'PAR'\n",
        "  return 'ÍMPAR'"
      ]
    },
    {
      "cell_type": "code",
      "execution_count": null,
      "metadata": {
        "id": "Hb8KA_Z0SFyA"
      },
      "outputs": [],
      "source": [
        "print(f'O número 8 é {par_ou_impar(8)}')\n",
        "print(f'O número 7 é {par_ou_impar(7)}')"
      ]
    },
    {
      "cell_type": "markdown",
      "metadata": {
        "id": "AcifJHjbNLdd"
      },
      "source": [
        "# Hora de praticar!"
      ]
    },
    {
      "cell_type": "markdown",
      "metadata": {
        "id": "rZ8j4aRQNeaC"
      },
      "source": [
        "## Atividade 1"
      ]
    },
    {
      "cell_type": "markdown",
      "metadata": {
        "id": "A_tSFNw-ZcGk"
      },
      "source": [
        "IMC = peso / (altura ** 2)"
      ]
    },
    {
      "cell_type": "markdown",
      "metadata": {
        "id": "ev6xD3BmweMf"
      },
      "source": [
        "Crie uma função para calular o IMC de 4 pessoas.\n",
        "\n",
        "__ATENÇÃO__ : Use as seguintes estruturas:\n",
        "\n",
        "* laço de repetição\n",
        "* listas\n",
        "* zip"
      ]
    },
    {
      "cell_type": "markdown",
      "metadata": {
        "id": "Hqo304ISjHGA"
      },
      "source": [
        "### Gabarito"
      ]
    },
    {
      "cell_type": "code",
      "execution_count": null,
      "metadata": {
        "id": "Y0cIO2kxxkls"
      },
      "outputs": [],
      "source": [
        "def calular_imc(infos: list) -> None:\n",
        "  '''Calcula o IMC de uma lista de pessoas\n",
        "\n",
        "  param:\n",
        "    infos: uma lista com pesos e alturas de pessoas\n",
        "  \n",
        "  return:\n",
        "    impressão na saída padrão com o nome e o IMC de cada pessoa da lista\n",
        "  '''\n",
        "  for nome, altura, peso in infos:\n",
        "    imc: float = peso / altura ** 2\n",
        "    print(f'{nome} _____ {imc:.2f}')"
      ]
    },
    {
      "cell_type": "code",
      "execution_count": null,
      "metadata": {
        "id": "PqZhw-bbOVLm"
      },
      "outputs": [],
      "source": [
        "pessoas: list = []\n",
        "alturas: list = []\n",
        "pesos: list = []\n",
        "\n",
        "for _ in range(4):\n",
        "  nome: str = input('Digite o nome: ').title()\n",
        "  altura: float = float(input('Digite a altura: '))\n",
        "  peso: float  = float(input('Digite o peso: '))\n",
        "  pessoas.append(nome)\n",
        "  alturas.append(altura)\n",
        "  pesos.append(peso)\n",
        "\n",
        "dados: list = list(zip(pessoas, alturas, pesos))\n",
        "print('-' * 30)\n",
        "\n",
        "calular_imc(dados)"
      ]
    },
    {
      "cell_type": "markdown",
      "metadata": {
        "id": "BP3eJhTMgYT-"
      },
      "source": [
        "Refatore o código acima para deixar a função calculando apenas o IMC e retornando este valor"
      ]
    },
    {
      "cell_type": "markdown",
      "metadata": {
        "id": "F91PF9lcgxxl"
      },
      "source": [
        "### Gabarito"
      ]
    },
    {
      "cell_type": "code",
      "execution_count": null,
      "metadata": {
        "id": "We5rNLufgf1U"
      },
      "outputs": [],
      "source": [
        "def calular_imc(peso: float, altura: float) -> float:\n",
        "  '''Calcula o IMC de uma lista de pessoas\n",
        "\n",
        "  param:\n",
        "    peso: número real \n",
        "    altura: número real\n",
        "  \n",
        "  return:\n",
        "    retorna o IMC calculado\n",
        "  '''\n",
        "  return peso / altura ** 2\n",
        "\n",
        "\n",
        "pessoas: list = []\n",
        "alturas: list = []\n",
        "pesos: list = []\n",
        "\n",
        "for _ in range(4):\n",
        "  nome: str = input('Digite o nome: ').title()\n",
        "  altura: float = float(input('Digite a altura: '))\n",
        "  peso: float  = float(input('Digite o peso: '))\n",
        "  pessoas.append(nome)\n",
        "  alturas.append(altura)\n",
        "  pesos.append(peso)\n",
        "\n",
        "dados: list = list(zip(pessoas, alturas, pesos))\n",
        "print('-' * 30)\n",
        "\n",
        "for dado in dados:\n",
        "    nome, altura, peso = dado\n",
        "    imc_calculado = calular_imc(peso, altura)\n",
        "    print(f'{nome.title()} _____ IMC : {imc_calculado:.2f}')\n"
      ]
    },
    {
      "cell_type": "markdown",
      "metadata": {
        "id": "-uIY-8WsNhqA"
      },
      "source": [
        "## Atividade 2"
      ]
    },
    {
      "cell_type": "markdown",
      "metadata": {
        "id": "Z-HKZQXx3Z6h"
      },
      "source": [
        "Faça uma função para calcular o valor/hora de um funcionário"
      ]
    },
    {
      "cell_type": "markdown",
      "metadata": {
        "id": "7H0Vq7AgjcJ0"
      },
      "source": [
        "### Gabarito"
      ]
    },
    {
      "cell_type": "code",
      "execution_count": null,
      "metadata": {
        "id": "mvdPL0wG4eS2"
      },
      "outputs": [],
      "source": [
        "def calcular_valor_hora(salario: float, dias: int, horas: int = 8) -> float:\n",
        "  '''Calcula o valor/hora de um funcionário\n",
        "  \n",
        "  params:\n",
        "    salario: número real\n",
        "    dias: número inteiro positivo\n",
        "    horas: número inteiro positivo\n",
        "  return:\n",
        "    retorna um número real correspondente ao valor/hora de um funcionário\n",
        "  '''\n",
        "  return salario / (dias * horas)"
      ]
    },
    {
      "cell_type": "code",
      "execution_count": null,
      "metadata": {
        "id": "Zc4ybgi4OUIy"
      },
      "outputs": [],
      "source": [
        "nome: str = input('Nome do funcionário: ').title()\n",
        "salario: float = float(input('Salário R$: '))\n",
        "dias: int = int(input('Dias por mês: '))\n",
        "horas: str = input('Horas trabalhadas: ')\n",
        "\n",
        "if horas == '' or not horas.isdigit():\n",
        "  print(f'O valor/hora do funcionário {nome} é de R${calcular_valor_hora(salario, dias):.2f}')\n",
        "else:\n",
        "  print(f'O valor/hora do funcionário {nome} é de R${calcular_valor_hora(salario, dias, int(horas)):.2f}')"
      ]
    },
    {
      "cell_type": "markdown",
      "metadata": {
        "id": "JsyVc4IkNq-w"
      },
      "source": [
        "## Atividade 3"
      ]
    },
    {
      "cell_type": "markdown",
      "metadata": {
        "id": "tCFr6R1f5lbI"
      },
      "source": [
        "Faça uma função que retorne quantas letras possui uma palavra. \n",
        "\n",
        "Se for passado uma frase, a função deverá retornar o número de letras, espaços vazios e quantos sinais de pontuação"
      ]
    },
    {
      "cell_type": "markdown",
      "metadata": {
        "id": "psQ5II2hjgaW"
      },
      "source": [
        "### Gabarito"
      ]
    },
    {
      "cell_type": "code",
      "execution_count": null,
      "metadata": {
        "id": "IWlwN0Nh6gOA"
      },
      "outputs": [],
      "source": [
        "def conta_tudo(txt: str) -> tuple:\n",
        "  '''Conta letras, espaços e pontuações numa palavra ou frase\n",
        "  \n",
        "  param:\n",
        "    txt: uma string literal\n",
        "    \n",
        "  return:\n",
        "    a contagem de quantas letras, espaços vazios e pontuações foram encontrados\n",
        "  '''\n",
        "  conta_letra = 0\n",
        "  conta_espaco = 0\n",
        "  conta_pontuacao = 0\n",
        "  for ch in txt:\n",
        "    if ch == ' ':\n",
        "      conta_espaco += 1\n",
        "    elif ch in ',.!?:':\n",
        "      conta_pontuacao += 1\n",
        "    else:\n",
        "      conta_letra += 1\n",
        "  \n",
        "  return conta_letra, conta_espaco, conta_pontuacao\n",
        "\n",
        "palavra_ou_frase = input('Escreve uma palavra ou frase: ')\n",
        "letras, espacos, pontuacao = conta_tudo(palavra_ou_frase)\n",
        "print(f'A string passada tem:')\n",
        "print(f'\\t- {letras} letra(s)\\n\\t- {espacos} espaço(s) em branco\\n\\t- {pontuacao} pontuação(ões)')"
      ]
    },
    {
      "cell_type": "markdown",
      "metadata": {
        "id": "umK_102uNkOh"
      },
      "source": [
        "## Atividade 4"
      ]
    },
    {
      "cell_type": "markdown",
      "metadata": {
        "id": "j5eC1oguTjj6"
      },
      "source": [
        "Faça um programa que onde o usuário deverá informar qual operação ele deseja realizar através dos sinais dessas operações, ou seja:\n",
        "\n",
        "* `+` para soma\n",
        "* `-` para subtração\n",
        "* `*` para multiplicação\n",
        "* `/` para divisão\n",
        "\n",
        "E depois informe 2 números inteiros.\n",
        "\n",
        "__Atenção__:\n",
        "\n",
        "* use bloco condicional para chamar a função apropriada\n",
        "* crie 4 funções das operações matemáticas básicas que retornem seus resultados\n",
        "* crie docstring para cada função\n",
        "* utilize as _annotations_ também\n",
        "* a função de divisão deverá informar ao usuário uma mensagem de erro se o _divisor_ for igual a zero\n"
      ]
    },
    {
      "cell_type": "markdown",
      "metadata": {
        "id": "Iuw4vRHIVD5j"
      },
      "source": [
        "### Gabarito"
      ]
    },
    {
      "cell_type": "code",
      "execution_count": null,
      "metadata": {
        "id": "zWN9G-rcOQ1U"
      },
      "outputs": [],
      "source": [
        "# Definição das funções\n",
        "def soma(numero1: int, numero2: int) -> int:\n",
        "  '''Soma 2 números inteiros\n",
        "  \n",
        "  params:\n",
        "    numero1: número inteiro positivo\n",
        "    numero2: número inteiro positivo\n",
        "    \n",
        "  return:\n",
        "    retorna a soma dos números informados\n",
        "  '''\n",
        "  return numero1 + numero2\n",
        "\n",
        "def subtracao(numero1: int, numero2: int) -> int:\n",
        "  '''Subtrai 2 números inteiros\n",
        "  \n",
        "  params:\n",
        "    numero1: número inteiro positivo\n",
        "    numero2: número inteiro positivo\n",
        "\n",
        "  return:\n",
        "    retorna a subtração dos números informados\n",
        "  '''\n",
        "  return numero1 - numero2\n",
        "\n",
        "def multiplicacao(numero1: int, numero2: int) -> int:\n",
        "  '''Multiplica 2 números inteiros\n",
        "\n",
        "  params:\n",
        "    numero1: número inteiro positivo\n",
        "    numero2: número inteiro positivo\n",
        "  \n",
        "  return:\n",
        "    retorna a multiplicação dos números informados\n",
        "  '''\n",
        "  return numero1 * numero2\n",
        "\n",
        "def divisao(numero1: int, numero2: int) -> tuple:\n",
        "  '''Divide 2 números inteiros\n",
        "\n",
        "  params:\n",
        "    numero1: número inteiro positivo\n",
        "    numero2: número inteiro positivo\n",
        "  '''\n",
        "  if numero2 == 0:\n",
        "    return f'Não é possível divisão por {numero2}', False\n",
        "  return numero1 / numero2, True\n",
        "\n",
        "# Programa principal\n",
        "op: str = input('Qual operação deseja realizar? [-+/*] ')\n",
        "num1: int = int(input('Número 1: '))\n",
        "num2: int = int(input('Número 2: '))\n",
        "\n",
        "if op == '+':\n",
        "  print(f'A soma de {num1} e {num2} foi {soma(num1, num2)}')\n",
        "elif op == '-':\n",
        "  print(f'A subtração de {num1} e {num2} foi {subtracao(num1, num2)}')\n",
        "elif op == '*':\n",
        "  print(f'A multiplicação de {num1} e {num2} foi {multiplicacao(num1, num2)}')\n",
        "elif op == '/':\n",
        "  result, tudo_certo = divisao(num1, num2)\n",
        "  if tudo_certo:\n",
        "    print(f'A divisão de {num1} e {num2} foi {result}')\n",
        "  else:\n",
        "    print(result)\n"
      ]
    }
  ],
  "metadata": {
    "colab": {
      "name": "Funções.ipynb",
      "provenance": []
    },
    "kernelspec": {
      "display_name": "Python 3.10.5 ('DS': venv)",
      "language": "python",
      "name": "python3"
    },
    "language_info": {
      "codemirror_mode": {
        "name": "ipython",
        "version": 3
      },
      "file_extension": ".py",
      "mimetype": "text/x-python",
      "name": "python",
      "nbconvert_exporter": "python",
      "pygments_lexer": "ipython3",
      "version": "3.10.5"
    },
    "vscode": {
      "interpreter": {
        "hash": "846a0ee60ad68b72672e41e810e549471b4cb149a220cc20f4c9509ce1283bb4"
      }
    }
  },
  "nbformat": 4,
  "nbformat_minor": 0
}
